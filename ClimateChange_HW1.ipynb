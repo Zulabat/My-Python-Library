{
  "nbformat": 4,
  "nbformat_minor": 0,
  "metadata": {
    "colab": {
      "provenance": [],
      "authorship_tag": "ABX9TyPu25nxhXorAMymhR3+C8Mz",
      "include_colab_link": true
    },
    "kernelspec": {
      "name": "python3",
      "display_name": "Python 3"
    },
    "language_info": {
      "name": "python"
    }
  },
  "cells": [
    {
      "cell_type": "markdown",
      "metadata": {
        "id": "view-in-github",
        "colab_type": "text"
      },
      "source": [
        "<a href=\"https://colab.research.google.com/github/Zulabat/My-Python-Library/blob/main/ClimateChange_HW1.ipynb\" target=\"_parent\"><img src=\"https://colab.research.google.com/assets/colab-badge.svg\" alt=\"Open In Colab\"/></a>"
      ]
    },
    {
      "cell_type": "code",
      "execution_count": 35,
      "metadata": {
        "id": "QQxPl6rDoJ8c"
      },
      "outputs": [],
      "source": [
        "#Developed by Zula Battulga\n",
        "#MSIS510 Case 1\n",
        "#Purple Cohort\n",
        "\n",
        "import pandas as pd\n",
        "import numpy as np\n",
        "import statsmodels.formula.api as smf\n",
        "from sklearn.metrics import r2_score"
      ]
    },
    {
      "cell_type": "code",
      "source": [
        "#a.i\n",
        "\n",
        "df_train = 'https://raw.githubusercontent.com/amandeep0/IS451/main/data/ClimateChangeTrain.csv'\n",
        "df_test = 'https://raw.githubusercontent.com/amandeep0/IS451/main/data/ClimateChangeTest.csv'\n",
        "\n",
        "train_data = pd.read_csv(df_train)\n",
        "test_data = pd.read_csv(df_test)\n",
        "\n",
        "X_train = train_data.drop(columns=['Year', 'Month', 'Temp'])\n",
        "y_train = train_data['Temp']\n",
        "X_test = test_data.drop(columns=['Year', 'Month', 'Temp'])\n",
        "y_test = test_data['Temp']\n",
        "\n",
        "formula = 'Temp ~ MEI + CO2 + CH4 + N2O + CFC11 + CFC12 + TSI + Aerosols'\n",
        "\n",
        "linear_regression_model = smf.ols(formula=formula, data=train_data)\n",
        "linear_regression_model_results = linear_regression_model.fit()\n",
        "\n",
        "print(linear_regression_model_results.summary())\n",
        "\n",
        "# Make predictions on the test set\n",
        "y_pred = linear_regression_model_results.predict(X_test)\n",
        "\n",
        "# Evaluate model performance using R^2\n",
        "r2 = r2_score(y_test, y_pred)\n",
        "print(f'R-squared on test set: {r2}')"
      ],
      "metadata": {
        "colab": {
          "base_uri": "https://localhost:8080/",
          "height": 0
        },
        "id": "6XCYxShSvtSk",
        "outputId": "05554ac6-7c80-4c1c-a7d9-5cd93401c320"
      },
      "execution_count": 49,
      "outputs": [
        {
          "output_type": "stream",
          "name": "stdout",
          "text": [
            "                            OLS Regression Results                            \n",
            "==============================================================================\n",
            "Dep. Variable:                   Temp   R-squared:                       0.751\n",
            "Model:                            OLS   Adj. R-squared:                  0.744\n",
            "Method:                 Least Squares   F-statistic:                     103.6\n",
            "Date:                Sun, 13 Oct 2024   Prob (F-statistic):           1.94e-78\n",
            "Time:                        22:35:51   Log-Likelihood:                 280.10\n",
            "No. Observations:                 284   AIC:                            -542.2\n",
            "Df Residuals:                     275   BIC:                            -509.4\n",
            "Df Model:                           8                                         \n",
            "Covariance Type:            nonrobust                                         \n",
            "==============================================================================\n",
            "                 coef    std err          t      P>|t|      [0.025      0.975]\n",
            "------------------------------------------------------------------------------\n",
            "Intercept   -124.5943     19.887     -6.265      0.000    -163.744     -85.445\n",
            "MEI            0.0642      0.006      9.923      0.000       0.051       0.077\n",
            "CO2            0.0065      0.002      2.826      0.005       0.002       0.011\n",
            "CH4            0.0001      0.001      0.240      0.810      -0.001       0.001\n",
            "N2O           -0.0165      0.009     -1.930      0.055      -0.033       0.000\n",
            "CFC11         -0.0066      0.002     -4.078      0.000      -0.010      -0.003\n",
            "CFC12          0.0038      0.001      3.757      0.000       0.002       0.006\n",
            "TSI            0.0931      0.015      6.313      0.000       0.064       0.122\n",
            "Aerosols      -1.5376      0.213     -7.210      0.000      -1.957      -1.118\n",
            "==============================================================================\n",
            "Omnibus:                        8.740   Durbin-Watson:                   0.956\n",
            "Prob(Omnibus):                  0.013   Jarque-Bera (JB):               10.327\n",
            "Skew:                           0.289   Prob(JB):                      0.00572\n",
            "Kurtosis:                       3.733   Cond. No.                     8.53e+06\n",
            "==============================================================================\n",
            "\n",
            "Notes:\n",
            "[1] Standard Errors assume that the covariance matrix of the errors is correctly specified.\n",
            "[2] The condition number is large, 8.53e+06. This might indicate that there are\n",
            "strong multicollinearity or other numerical problems.\n",
            "R-squared on test set: 0.18377835333094694\n"
          ]
        }
      ]
    },
    {
      "cell_type": "code",
      "source": [
        "#a.ii.\n",
        "#R-Square Value =  0.751\n",
        "#By looking at the P value thats are less than 0.05 - MEI, CO2, CFC11, CFC12, TSI, Aerosols are significant independent variable"
      ],
      "metadata": {
        "id": "LCyTmGZ54m64"
      },
      "execution_count": null,
      "outputs": []
    },
    {
      "cell_type": "code",
      "source": [
        "#a.iii.\n",
        "#The negative coefficients for N2O and CFC-11 may result from multicollinearity,\n",
        "#where gases like CO2, CH4, and aerosols are highly correlated and overlap in their effects."
      ],
      "metadata": {
        "id": "Fo-eE8Ge5t26"
      },
      "execution_count": 37,
      "outputs": []
    },
    {
      "cell_type": "code",
      "source": [
        "#a.iv.\n",
        "independent_vars = train_data.drop(columns=['Temp'])\n",
        "correlation_matrix = independent_vars.corr()\n",
        "\n",
        "print(correlation_matrix)\n",
        "#Hightly correlated independent variable for N2O & CFC11.\n",
        "#N2O - Year, CO2, CH4, CFC12\n",
        "#CFC11 - CH4, CFC12"
      ],
      "metadata": {
        "colab": {
          "base_uri": "https://localhost:8080/",
          "height": 0
        },
        "id": "vhny5Jv47XCV",
        "outputId": "cd976624-4dd1-4116-8f27-5946f2bbc260"
      },
      "execution_count": 45,
      "outputs": [
        {
          "output_type": "stream",
          "name": "stdout",
          "text": [
            "              Year     Month       MEI       CO2       CH4       N2O  \\\n",
            "Year      1.000000 -0.027942 -0.036988  0.982749  0.915659  0.993845   \n",
            "Month    -0.027942  1.000000  0.000885 -0.106732  0.018569  0.013632   \n",
            "MEI      -0.036988  0.000885  1.000000 -0.041147 -0.033419 -0.050820   \n",
            "CO2       0.982749 -0.106732 -0.041147  1.000000  0.877280  0.976720   \n",
            "CH4       0.915659  0.018569 -0.033419  0.877280  1.000000  0.899839   \n",
            "N2O       0.993845  0.013632 -0.050820  0.976720  0.899839  1.000000   \n",
            "CFC11     0.569106 -0.013111  0.069000  0.514060  0.779904  0.522477   \n",
            "CFC12     0.897012  0.000675  0.008286  0.852690  0.963616  0.867931   \n",
            "TSI       0.170302 -0.034606 -0.154492  0.177429  0.245528  0.199757   \n",
            "Aerosols -0.345247  0.014890  0.340238 -0.356155 -0.267809 -0.337055   \n",
            "\n",
            "             CFC11     CFC12       TSI  Aerosols  \n",
            "Year      0.569106  0.897012  0.170302 -0.345247  \n",
            "Month    -0.013111  0.000675 -0.034606  0.014890  \n",
            "MEI       0.069000  0.008286 -0.154492  0.340238  \n",
            "CO2       0.514060  0.852690  0.177429 -0.356155  \n",
            "CH4       0.779904  0.963616  0.245528 -0.267809  \n",
            "N2O       0.522477  0.867931  0.199757 -0.337055  \n",
            "CFC11     1.000000  0.868985  0.272046 -0.043921  \n",
            "CFC12     0.868985  1.000000  0.255303 -0.225131  \n",
            "TSI       0.272046  0.255303  1.000000  0.052117  \n",
            "Aerosols -0.043921 -0.225131  0.052117  1.000000  \n"
          ]
        }
      ]
    },
    {
      "cell_type": "code",
      "source": [
        "#b\n",
        "linear_regression_model_2 = smf.ols('Temp ~ MEI + TSI + Aerosols + N2O', data=train_data)\n",
        "linear_regression_model_2_results = linear_regression_model_2.fit()\n",
        "\n",
        "print(linear_regression_model_2_results.summary())"
      ],
      "metadata": {
        "colab": {
          "base_uri": "https://localhost:8080/",
          "height": 0
        },
        "id": "u5I0xVyw_KxX",
        "outputId": "243e24f1-42f6-43ef-9e0e-b2ffbe6700f6"
      },
      "execution_count": 48,
      "outputs": [
        {
          "output_type": "stream",
          "name": "stdout",
          "text": [
            "                            OLS Regression Results                            \n",
            "==============================================================================\n",
            "Dep. Variable:                   Temp   R-squared:                       0.726\n",
            "Model:                            OLS   Adj. R-squared:                  0.722\n",
            "Method:                 Least Squares   F-statistic:                     184.9\n",
            "Date:                Sun, 13 Oct 2024   Prob (F-statistic):           3.52e-77\n",
            "Time:                        22:29:35   Log-Likelihood:                 266.64\n",
            "No. Observations:                 284   AIC:                            -523.3\n",
            "Df Residuals:                     279   BIC:                            -505.0\n",
            "Df Model:                           4                                         \n",
            "Covariance Type:            nonrobust                                         \n",
            "==============================================================================\n",
            "                 coef    std err          t      P>|t|      [0.025      0.975]\n",
            "------------------------------------------------------------------------------\n",
            "Intercept   -116.2269     20.223     -5.747      0.000    -156.036     -76.418\n",
            "MEI            0.0642      0.007      9.649      0.000       0.051       0.077\n",
            "TSI            0.0795      0.015      5.344      0.000       0.050       0.109\n",
            "Aerosols      -1.7017      0.218     -7.806      0.000      -2.131      -1.273\n",
            "N2O            0.0253      0.001     19.307      0.000       0.023       0.028\n",
            "==============================================================================\n",
            "Omnibus:                       10.908   Durbin-Watson:                   0.842\n",
            "Prob(Omnibus):                  0.004   Jarque-Bera (JB):               15.097\n",
            "Skew:                           0.289   Prob(JB):                     0.000527\n",
            "Kurtosis:                       3.971   Cond. No.                     5.00e+06\n",
            "==============================================================================\n",
            "\n",
            "Notes:\n",
            "[1] Standard Errors assume that the covariance matrix of the errors is correctly specified.\n",
            "[2] The condition number is large,  5e+06. This might indicate that there are\n",
            "strong multicollinearity or other numerical problems.\n"
          ]
        }
      ]
    },
    {
      "cell_type": "code",
      "source": [
        "#b.i\n",
        "#N2O significance has improved compare to the last model."
      ],
      "metadata": {
        "id": "dDnHomN2AHe1"
      },
      "execution_count": null,
      "outputs": []
    },
    {
      "cell_type": "markdown",
      "source": [
        "#b.ii\n",
        "\n",
        "Model 1 has a slightly higher R-Square (0.751) compared to Model 2 (0.726), indicating that it explains a bit more variance in temperature. However, Model 1 includes variables like CH4 and N2O, which are not statistically significant, reducing the model's reliability. Model 2, on the other hand, only includes statistically significant variables, making it more robust and easier to interpret. Despite the slightly lower R-Square Model 2 is more streamlined and reliable due to the significance of all its predictors. Overall, Model 1 offers better fit, but Model 2 provides a simpler, more interpretable solution with fewer, yet significant variables."
      ],
      "metadata": {
        "id": "ppMibBhkDqko"
      }
    },
    {
      "cell_type": "code",
      "source": [
        "#c\n",
        "\n",
        "test_data['PredictedTemp'] = (linear_regression_model_2_results.predict(X_test))\n",
        "\n",
        "ss_residual = sum((test_data['Temp'] - test_data['PredictedTemp']) ** 2)\n",
        "ss_total = sum((test_data['Temp'] - test_data['Temp'].mean()) ** 2)\n",
        "r_squared_test = 1 - (ss_residual / ss_total)\n",
        "print(r_squared_test)"
      ],
      "metadata": {
        "colab": {
          "base_uri": "https://localhost:8080/",
          "height": 0
        },
        "id": "UTq8_ti2IKUx",
        "outputId": "1565ac69-01a6-4ea1-cfa3-d25499040100"
      },
      "execution_count": 56,
      "outputs": [
        {
          "output_type": "stream",
          "name": "stdout",
          "text": [
            "-0.10237639062818116\n"
          ]
        }
      ]
    },
    {
      "cell_type": "markdown",
      "source": [
        "#c\n",
        "\n",
        "Negative R-squared suggests that the model's predictions on the test data are worse than if we had simply predicted the mean temperature for all instances. This indicates poor generalization performance and that the model is likely overfitting to the training data or the selected features (MEI, TSI, Aerosols, N2O) are not sufficient to explain the variability in the temperature in the test set."
      ],
      "metadata": {
        "id": "XhZxTDp-I-8Z"
      }
    }
  ]
}